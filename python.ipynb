{
 "cells": [
  {
   "cell_type": "code",
   "execution_count": 25,
   "metadata": {},
   "outputs": [
    {
     "name": "stdout",
     "output_type": "stream",
     "text": [
      "MAIN MENU:\n",
      "1. Create New Game\n",
      "2. Load Saved Game\n",
      "3. About\n",
      "4. Exit\n",
      "> 1\n",
      "Creating New Game\n",
      "Please Enter your name:\n",
      "> Bob\n",
      "Hello, Bob! Welcome to the game.\n"
     ]
    }
   ],
   "source": [
    "\n",
    "class game_main_menu :\n",
    "    def main_menu():\n",
    "        print(\"MAIN MENU:\")\n",
    "        print(\"1. Create New Game\")\n",
    "        print(\"2. Load Saved Game\")\n",
    "        print(\"3. About\")\n",
    "        print(\"4. Exit\")\n",
    "        \n",
    "    def create_new_game():\n",
    "        print(\"Creating New Game\")\n",
    "        print(\"Please Enter your name:\")\n",
    "        name = input(\"> \")\n",
    "        print(\"> \" + name)\n",
    "        print(\"Hello, \" + name + \"! Welcome to the game.\")\n",
    "        \n",
    "    def main():\n",
    "        game_main_menu.main_menu()\n",
    "        choice = input(\"> \")\n",
    "\n",
    "        if choice == '1':\n",
    "            print(\"> \" + choice)\n",
    "            game_main_menu.create_new_game()\n",
    "        elif choice == '2':\n",
    "            print(\"Load Saved Game - Feature not implemented yet.\")\n",
    "        elif choice == '3':\n",
    "            print(\"About - This is a simple text adventure game.\")\n",
    "        elif choice == '4':\n",
    "            print(\"Exiting game. Goodbye!\")\n",
    "        else:\n",
    "            print(\"Invalid choice. Please select a valid option.\")\n",
    "        \n",
    "\n"
   ]
  },
  {
   "cell_type": "code",
   "execution_count": 27,
   "metadata": {},
   "outputs": [],
   "source": [
    "class game() :\n",
    "    def __init__(self, name, weapon, health, strength):\n",
    "        self.name = name\n",
    "        self.weapon = weapon\n",
    "        self.health = health\n",
    "        self.strength = strength\n",
    "        \n",
    "    def __str__(self) :\n",
    "        return self.name\n",
    "    \n",
    "    def level_up(self):\n",
    "        self.health += 10\n",
    "        self.strength += 1\n",
    "        \n",
    "    def attack(self):\n",
    "        pass"
   ]
  },
  {
   "cell_type": "code",
   "execution_count": null,
   "metadata": {},
   "outputs": [],
   "source": [
    "class player(game):\n",
    "    def __init__(self, name, health, strength, defense, speed, luck):\n",
    "        super().__init__(name, health, strength)\n",
    "        "
   ]
  },
  {
   "cell_type": "code",
   "execution_count": 28,
   "metadata": {},
   "outputs": [
    {
     "name": "stdout",
     "output_type": "stream",
     "text": [
      "MAIN MENU:\n",
      "1. Create New Game\n",
      "2. Load Saved Game\n",
      "3. About\n",
      "4. Exit\n",
      "Invalid choice. Please select a valid option.\n"
     ]
    }
   ],
   "source": [
    "if __name__ == \"__main__\":\n",
    "    game = game_main_menu()\n",
    "    game_main_menu.main()"
   ]
  },
  {
   "cell_type": "code",
   "execution_count": null,
   "metadata": {},
   "outputs": [],
   "source": [
    "class enemy(game):\n",
    "    def __init__(self, name, health, strength, defense, speed, luck):\n",
    "        self.name = name\n",
    "        self.health = health\n",
    "        self.strength = strength\n",
    "        self.defense = defense\n",
    "        self.speed = speed\n",
    "        self.luck = luck\n",
    "        "
   ]
  },
  {
   "cell_type": "code",
   "execution_count": null,
   "metadata": {},
   "outputs": [],
   "source": [
    "class inventory:\n",
    "    def __init__(self, name, item):\n",
    "        self.name = name\n",
    "        self.item = item"
   ]
  }
 ],
 "metadata": {
  "kernelspec": {
   "display_name": "Python 3",
   "language": "python",
   "name": "python3"
  },
  "language_info": {
   "codemirror_mode": {
    "name": "ipython",
    "version": 3
   },
   "file_extension": ".py",
   "mimetype": "text/x-python",
   "name": "python",
   "nbconvert_exporter": "python",
   "pygments_lexer": "ipython3",
   "version": "3.12.2"
  }
 },
 "nbformat": 4,
 "nbformat_minor": 2
}
